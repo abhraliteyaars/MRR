{
 "cells": [
  {
   "cell_type": "code",
   "execution_count": null,
   "id": "2aff8a7c",
   "metadata": {},
   "outputs": [],
   "source": [
    "import pandas as pd\n",
    "import numpy as np\n",
    "df=pd.read_csv('MRR raw.csv')\n",
    "\n",
    "#rename the columns to make referencing easier\n",
    "df=df.rename(columns={'Search Term (evar18)':'Search Term',\n",
    "                   'Product Rank (evar12)':'Product Rank',\n",
    "                   'Product Rank Instance (Instance of evar12)':'Occurences'})\n",
    "\n",
    "#create a SOP column which product of the product rank for a search term and the number of times the product rank occured\n",
    "df['SOP']=df['Product Rank']*df['Occurences']\n",
    "\n",
    "#group the data set by search term so that we can find the average product rank of a search term\n",
    "dfg=df.groupby('Search Term')\n",
    "\n",
    "#Sum up all integer columns of the grouped dataset\n",
    "dfgs=dfg.sum()\n",
    "\n",
    "#create columns MR and MRR where\n",
    "#MR= SOP/Sum of Occurences\n",
    "dfgs['MR']=round(dfgs['SOP']/dfgs['Occurences'],2)\n",
    "#MRR= Inv of MR\n",
    "dfgs['MRR']=round((1/dfgs['MR']),2)\n",
    "#avg= average MRR for a search term\n",
    "avg=dfgs['MRR'].mean()\n",
    "print('MRR for the week is :',avg)\n",
    "dfgs.head\n",
    "#export the dfgs dataset to a csv\n",
    "dfgs.to_csv('mrr.csv')"
   ]
  },
  {
   "cell_type": "code",
   "execution_count": null,
   "id": "19eae2e0",
   "metadata": {},
   "outputs": [],
   "source": []
  },
  {
   "cell_type": "markdown",
   "id": "22679349",
   "metadata": {},
   "source": [
    "### New approach"
   ]
  },
  {
   "cell_type": "markdown",
   "id": "d7f4914c",
   "metadata": {},
   "source": [
    "## Revised approach to MRR"
   ]
  },
  {
   "cell_type": "markdown",
   "id": "80dac401",
   "metadata": {},
   "source": [
    "### Search term wise MRR"
   ]
  },
  {
   "cell_type": "code",
   "execution_count": null,
   "id": "d3dedf26",
   "metadata": {},
   "outputs": [],
   "source": [
    "#Read the file\n",
    "df=pd.read_csv('MRR20220701-20230114.csv')\n",
    "df.sample(5)"
   ]
  },
  {
   "cell_type": "code",
   "execution_count": null,
   "id": "9478f335",
   "metadata": {},
   "outputs": [],
   "source": [
    "#create a Reciprocal rank column\n",
    "df['Reciprocal']=1/df['Product Rank (evar12)']\n",
    "\n",
    "#calculate search term wise MRR\n",
    "df_search_term=df.groupby(by='Search Term (evar18)').mean().reset_index()\n",
    "df_search_term=df_search_term[['Search Term (evar18)','Product Rank (evar12)','Reciprocal']]\n",
    "\n",
    "#Adding a count column for further analysis\n",
    "df_search_count=df.groupby(by='Search Term (evar18)').count().reset_index()\n",
    "df_search_count=df_search_count[['Search Term (evar18)','Reciprocal']]\n",
    "df_search_count.rename(columns={'Reciprocal':'Count'},inplace=True)\n",
    "df_search_term=df_search_term.merge(df_search_count,on='Search Term (evar18)')\n",
    "df_search_term.to_csv('MRR_searchterm.csv')\n",
    "plt.hist(df_search_term['Reciprocal'],bins=20,label='Distribution of MRR')"
   ]
  },
  {
   "cell_type": "code",
   "execution_count": null,
   "id": "981fc4fb",
   "metadata": {},
   "outputs": [],
   "source": [
    "df_search_term=df_search_term[df_search_term['Count']>500]\n",
    "plt.hist(df_search_term['Reciprocal'],bins=20,label='Distribution of MRR')"
   ]
  },
  {
   "cell_type": "code",
   "execution_count": null,
   "id": "b04dfd3e",
   "metadata": {},
   "outputs": [],
   "source": [
    "df_search_term.describe()"
   ]
  },
  {
   "cell_type": "code",
   "execution_count": null,
   "id": "b73f1acc",
   "metadata": {},
   "outputs": [],
   "source": [
    "df_top_1000=df_search_term.sort_values(by='Count',ascending=False)\n",
    "df_top_1000=df_top_1000.iloc[0:1000]\n",
    "df_top_1000=df_search_term.sort_values(by='Reciprocal',ascending=False)\n",
    "df_top_1000.head(50)"
   ]
  },
  {
   "cell_type": "code",
   "execution_count": null,
   "id": "dea55dc4",
   "metadata": {},
   "outputs": [],
   "source": []
  },
  {
   "cell_type": "markdown",
   "id": "99bbc682",
   "metadata": {},
   "source": [
    "### Monthly MRR for top 1000 search terms(Jul-Jan)"
   ]
  },
  {
   "cell_type": "code",
   "execution_count": null,
   "id": "2e54ebf4",
   "metadata": {},
   "outputs": [],
   "source": [
    "#Monthly breakdown of top 1000 search terms\n",
    "import warnings\n",
    "warnings.filterwarnings(\"ignore\")\n",
    "#Read the file\n",
    "df=pd.read_csv('MRR20220701-20230114.csv')"
   ]
  },
  {
   "cell_type": "code",
   "execution_count": null,
   "id": "662bcfbf",
   "metadata": {},
   "outputs": [],
   "source": [
    "#create a Reciprocal rank column\n",
    "df['Reciprocal']=1/df['Product Rank (evar12)']\n",
    "\n",
    "#Add month column\n",
    "df['Time Stamp (prop3)']=pd.to_datetime(df['Time Stamp (prop3)'])\n",
    "df['Month']=df['Time Stamp (prop3)'].dt.month\n",
    "df=df[df['Month']!=6]\n",
    "\n",
    "#Group the df by Month+ST such that we get Mean of each search term for the month\n",
    "df_month_mrr=df.groupby(by=['Month','Search Term (evar18)']).mean().reset_index()\n",
    "df_month_mrr=df_month_mrr[['Month','Search Term (evar18)','Reciprocal']]\n",
    "\n",
    "#Group the df by Month+ST such that we get count of each search term for the month\n",
    "df_month_count=df.groupby(by=['Month','Search Term (evar18)']).count().reset_index()\n",
    "df_month_count=df_month_count[['Search Term (evar18)','Reciprocal','Month']]\n",
    "df_month_count.rename(columns={'Reciprocal':'Reciprocal Count'},inplace=True)\n",
    "\n",
    "#Final dataframe\n",
    "df_final=df_month_count.merge(df_month_mrr,on=['Month','Search Term (evar18)'])\n",
    "\n",
    "#create df for each month, sort the df by the count of each sort term, get the first 1000 rows and find the mean of this df\n",
    "df_Jul=df_final[df_final['Month']==7]\n",
    "df_Jul=df_Jul.sort_values(by='Reciprocal Count',ascending=False)\n",
    "df_Jul_1000=df_Jul.iloc[0:1000]\n",
    "print('MRR for Jul is',df_Jul_1000['Reciprocal'].mean())\n",
    "\n",
    "df_Aug=df_final[df_final['Month']==8]\n",
    "df_Aug=df_Aug.sort_values(by='Reciprocal Count',ascending=False)\n",
    "df_Aug_1000=df_Aug.iloc[0:1000]\n",
    "print('MRR for Aug is',df_Aug_1000['Reciprocal'].mean())\n",
    "\n",
    "df_Sep=df_final[df_final['Month']==9]\n",
    "df_Sep=df_Sep.sort_values(by='Reciprocal Count',ascending=False)\n",
    "df_Sep_1000=df_Sep.iloc[0:1000]\n",
    "print('MRR for Sep is',df_Sep_1000['Reciprocal'].mean())\n",
    "\n",
    "\n",
    "df_Oct=df_final[df_final['Month']==10]\n",
    "df_Oct=df_Oct.sort_values(by='Reciprocal Count',ascending=False)\n",
    "df_Oct_1000=df_Oct.iloc[0:1000]\n",
    "print('MRR for Oct is',df_Oct_1000['Reciprocal'].mean())\n",
    "\n",
    "\n",
    "df_Nov=df_final[df_final['Month']==11]\n",
    "df_Nov=df_Nov.sort_values(by='Reciprocal Count',ascending=False)\n",
    "df_Nov_1000=df_Nov.iloc[0:1000]\n",
    "print('MRR for Nov is',df_Nov_1000['Reciprocal'].mean())\n",
    "\n",
    "\n",
    "df_Dec=df_final[df_final['Month']==12]\n",
    "df_Dec=df_Dec.sort_values(by='Reciprocal Count',ascending=False)\n",
    "df_Dec_1000=df_Dec.iloc[0:1000]\n",
    "print('MRR for Dec is',df_Dec_1000['Reciprocal'].mean())\n",
    "\n",
    "df_Jan=df_final[df_final['Month']==1]\n",
    "df_Jan=df_Jan.sort_values(by='Reciprocal Count',ascending=False)\n",
    "df_Jan_1000=df_Jan.iloc[0:1000]\n",
    "print('MRR for Jan is',df_Jan_1000['Reciprocal'].mean())"
   ]
  },
  {
   "cell_type": "code",
   "execution_count": null,
   "id": "eedace47",
   "metadata": {},
   "outputs": [],
   "source": [
    "df_Jan_1000.sample(5)"
   ]
  },
  {
   "cell_type": "markdown",
   "id": "e715146d",
   "metadata": {},
   "source": []
  },
  {
   "cell_type": "markdown",
   "id": "67bb99f7",
   "metadata": {},
   "source": [
    "### Device wise split for MRR per month"
   ]
  },
  {
   "cell_type": "code",
   "execution_count": null,
   "id": "231c54eb",
   "metadata": {},
   "outputs": [],
   "source": [
    "df['Mobile Device Type'].value_counts()"
   ]
  },
  {
   "cell_type": "code",
   "execution_count": null,
   "id": "8efa37ec",
   "metadata": {},
   "outputs": [],
   "source": [
    "df_mobile=df[df['Mobile Device Type']=='Mobile Phone']\n",
    "df_laptop=df[df['Mobile Device Type']=='Other']\n",
    "df_tablet=df[df['Mobile Device Type']=='Tablet']"
   ]
  },
  {
   "cell_type": "markdown",
   "id": "03f589ee",
   "metadata": {},
   "source": [
    "### Mobile"
   ]
  },
  {
   "cell_type": "code",
   "execution_count": null,
   "id": "d76ca7fe",
   "metadata": {},
   "outputs": [],
   "source": [
    "df=df_mobile\n",
    "#create a Reciprocal rank column\n",
    "df['Reciprocal']=1/df['Product Rank (evar12)']\n",
    "\n",
    "#Add month column\n",
    "df['Time Stamp (prop3)']=pd.to_datetime(df['Time Stamp (prop3)'])\n",
    "df['Month']=df['Time Stamp (prop3)'].dt.month\n",
    "df=df[df['Month']!=6]\n",
    "\n",
    "#Group the df by Month+ST such that we get Mean of each search term for the month\n",
    "df_month_mrr=df.groupby(by=['Month','Search Term (evar18)']).mean().reset_index()\n",
    "df_month_mrr=df_month_mrr[['Month','Search Term (evar18)','Reciprocal']]\n",
    "\n",
    "#Group the df by Month+ST such that we get count of each search term for the month\n",
    "df_month_count=df.groupby(by=['Month','Search Term (evar18)']).count().reset_index()\n",
    "df_month_count=df_month_count[['Search Term (evar18)','Reciprocal','Month']]\n",
    "df_month_count.rename(columns={'Reciprocal':'Reciprocal Count'},inplace=True)\n",
    "\n",
    "#Final dataframe\n",
    "df_final=df_month_count.merge(df_month_mrr,on=['Month','Search Term (evar18)'])\n",
    "\n",
    "#create df for each month, sort the df by the count of each sort term, get the first 1000 rows and find the mean of this df\n",
    "df_Jul=df_final[df_final['Month']==7]\n",
    "df_Jul=df_Jul.sort_values(by='Reciprocal Count',ascending=False)\n",
    "df_Jul_1000=df_Jul.iloc[0:1000]\n",
    "print('MRR for Jul is',df_Jul_1000['Reciprocal'].mean())\n",
    "\n",
    "df_Aug=df_final[df_final['Month']==8]\n",
    "df_Aug=df_Aug.sort_values(by='Reciprocal Count',ascending=False)\n",
    "df_Aug_1000=df_Aug.iloc[0:1000]\n",
    "print('MRR for Aug is',df_Aug_1000['Reciprocal'].mean())\n",
    "\n",
    "df_Sep=df_final[df_final['Month']==9]\n",
    "df_Sep=df_Sep.sort_values(by='Reciprocal Count',ascending=False)\n",
    "df_Sep_1000=df_Sep.iloc[0:1000]\n",
    "print('MRR for Sep is',df_Sep_1000['Reciprocal'].mean())\n",
    "\n",
    "\n",
    "df_Oct=df_final[df_final['Month']==10]\n",
    "df_Oct=df_Oct.sort_values(by='Reciprocal Count',ascending=False)\n",
    "df_Oct_1000=df_Oct.iloc[0:1000]\n",
    "print('MRR for Oct is',df_Oct_1000['Reciprocal'].mean())\n",
    "\n",
    "\n",
    "df_Nov=df_final[df_final['Month']==11]\n",
    "df_Nov=df_Nov.sort_values(by='Reciprocal Count',ascending=False)\n",
    "df_Nov_1000=df_Nov.iloc[0:1000]\n",
    "print('MRR for Nov is',df_Nov_1000['Reciprocal'].mean())\n",
    "\n",
    "\n",
    "df_Dec=df_final[df_final['Month']==12]\n",
    "df_Dec=df_Dec.sort_values(by='Reciprocal Count',ascending=False)\n",
    "df_Dec_1000=df_Dec.iloc[0:1000]\n",
    "print('MRR for Dec is',df_Dec_1000['Reciprocal'].mean())\n",
    "\n",
    "df_Jan=df_final[df_final['Month']==1]\n",
    "df_Jan=df_Jan.sort_values(by='Reciprocal Count',ascending=False)\n",
    "df_Jan_1000=df_Jan.iloc[0:1000]\n",
    "print('MRR for Jan is',df_Jan_1000['Reciprocal'].mean())"
   ]
  },
  {
   "cell_type": "markdown",
   "id": "b9c39a51",
   "metadata": {},
   "source": [
    "### Laptop"
   ]
  },
  {
   "cell_type": "code",
   "execution_count": null,
   "id": "7bc17a65",
   "metadata": {},
   "outputs": [],
   "source": [
    "df=df_laptop\n",
    "#create a Reciprocal rank column\n",
    "df['Reciprocal']=1/df['Product Rank (evar12)']\n",
    "\n",
    "#Add month column\n",
    "df['Time Stamp (prop3)']=pd.to_datetime(df['Time Stamp (prop3)'])\n",
    "df['Month']=df['Time Stamp (prop3)'].dt.month\n",
    "df=df[df['Month']!=6]\n",
    "\n",
    "#Group the df by Month+ST such that we get Mean of each search term for the month\n",
    "df_month_mrr=df.groupby(by=['Month','Search Term (evar18)']).mean().reset_index()\n",
    "df_month_mrr=df_month_mrr[['Month','Search Term (evar18)','Reciprocal']]\n",
    "\n",
    "#Group the df by Month+ST such that we get count of each search term for the month\n",
    "df_month_count=df.groupby(by=['Month','Search Term (evar18)']).count().reset_index()\n",
    "df_month_count=df_month_count[['Search Term (evar18)','Reciprocal','Month']]\n",
    "df_month_count.rename(columns={'Reciprocal':'Reciprocal Count'},inplace=True)\n",
    "\n",
    "#Final dataframe\n",
    "df_final=df_month_count.merge(df_month_mrr,on=['Month','Search Term (evar18)'])\n",
    "\n",
    "#create df for each month, sort the df by the count of each sort term, get the first 1000 rows and find the mean of this df\n",
    "df_Jul=df_final[df_final['Month']==7]\n",
    "df_Jul=df_Jul.sort_values(by='Reciprocal Count',ascending=False)\n",
    "df_Jul_1000=df_Jul.iloc[0:1000]\n",
    "print('MRR for Jul is',df_Jul_1000['Reciprocal'].mean())\n",
    "\n",
    "df_Aug=df_final[df_final['Month']==8]\n",
    "df_Aug=df_Aug.sort_values(by='Reciprocal Count',ascending=False)\n",
    "df_Aug_1000=df_Aug.iloc[0:1000]\n",
    "print('MRR for Aug is',df_Aug_1000['Reciprocal'].mean())\n",
    "\n",
    "df_Sep=df_final[df_final['Month']==9]\n",
    "df_Sep=df_Sep.sort_values(by='Reciprocal Count',ascending=False)\n",
    "df_Sep_1000=df_Sep.iloc[0:1000]\n",
    "print('MRR for Sep is',df_Sep_1000['Reciprocal'].mean())\n",
    "\n",
    "\n",
    "df_Oct=df_final[df_final['Month']==10]\n",
    "df_Oct=df_Oct.sort_values(by='Reciprocal Count',ascending=False)\n",
    "df_Oct_1000=df_Oct.iloc[0:1000]\n",
    "print('MRR for Oct is',df_Oct_1000['Reciprocal'].mean())\n",
    "\n",
    "\n",
    "df_Nov=df_final[df_final['Month']==11]\n",
    "df_Nov=df_Nov.sort_values(by='Reciprocal Count',ascending=False)\n",
    "df_Nov_1000=df_Nov.iloc[0:1000]\n",
    "print('MRR for Nov is',df_Nov_1000['Reciprocal'].mean())\n",
    "\n",
    "\n",
    "df_Dec=df_final[df_final['Month']==12]\n",
    "df_Dec=df_Dec.sort_values(by='Reciprocal Count',ascending=False)\n",
    "df_Dec_1000=df_Dec.iloc[0:1000]\n",
    "print('MRR for Dec is',df_Dec_1000['Reciprocal'].mean())\n",
    "\n",
    "df_Jan=df_final[df_final['Month']==1]\n",
    "df_Jan=df_Jan.sort_values(by='Reciprocal Count',ascending=False)\n",
    "df_Jan_1000=df_Jan.iloc[0:1000]\n",
    "print('MRR for Jan is',df_Jan_1000['Reciprocal'].mean())"
   ]
  },
  {
   "cell_type": "markdown",
   "id": "5939fa16",
   "metadata": {},
   "source": [
    "### Tablet"
   ]
  },
  {
   "cell_type": "code",
   "execution_count": null,
   "id": "5465d843",
   "metadata": {},
   "outputs": [],
   "source": [
    "df=df_tablet\n",
    "#create a Reciprocal rank column\n",
    "df['Reciprocal']=1/df['Product Rank (evar12)']\n",
    "\n",
    "#Add month column\n",
    "df['Time Stamp (prop3)']=pd.to_datetime(df['Time Stamp (prop3)'])\n",
    "df['Month']=df['Time Stamp (prop3)'].dt.month\n",
    "df=df[df['Month']!=6]\n",
    "\n",
    "#Group the df by Month+ST such that we get Mean of each search term for the month\n",
    "df_month_mrr=df.groupby(by=['Month','Search Term (evar18)']).mean().reset_index()\n",
    "df_month_mrr=df_month_mrr[['Month','Search Term (evar18)','Reciprocal']]\n",
    "\n",
    "#Group the df by Month+ST such that we get count of each search term for the month\n",
    "df_month_count=df.groupby(by=['Month','Search Term (evar18)']).count().reset_index()\n",
    "df_month_count=df_month_count[['Search Term (evar18)','Reciprocal','Month']]\n",
    "df_month_count.rename(columns={'Reciprocal':'Reciprocal Count'},inplace=True)\n",
    "\n",
    "#Final dataframe\n",
    "df_final=df_month_count.merge(df_month_mrr,on=['Month','Search Term (evar18)'])\n",
    "\n",
    "#create df for each month, sort the df by the count of each sort term, get the first 1000 rows and find the mean of this df\n",
    "df_Jul=df_final[df_final['Month']==7]\n",
    "df_Jul=df_Jul.sort_values(by='Reciprocal Count',ascending=False)\n",
    "df_Jul_1000=df_Jul.iloc[0:1000]\n",
    "print('MRR for Jul is',df_Jul_1000['Reciprocal'].mean())\n",
    "\n",
    "df_Aug=df_final[df_final['Month']==8]\n",
    "df_Aug=df_Aug.sort_values(by='Reciprocal Count',ascending=False)\n",
    "df_Aug_1000=df_Aug.iloc[0:1000]\n",
    "print('MRR for Aug is',df_Aug_1000['Reciprocal'].mean())\n",
    "\n",
    "df_Sep=df_final[df_final['Month']==9]\n",
    "df_Sep=df_Sep.sort_values(by='Reciprocal Count',ascending=False)\n",
    "df_Sep_1000=df_Sep.iloc[0:1000]\n",
    "print('MRR for Sep is',df_Sep_1000['Reciprocal'].mean())\n",
    "\n",
    "\n",
    "df_Oct=df_final[df_final['Month']==10]\n",
    "df_Oct=df_Oct.sort_values(by='Reciprocal Count',ascending=False)\n",
    "df_Oct_1000=df_Oct.iloc[0:1000]\n",
    "print('MRR for Oct is',df_Oct_1000['Reciprocal'].mean())\n",
    "\n",
    "\n",
    "df_Nov=df_final[df_final['Month']==11]\n",
    "df_Nov=df_Nov.sort_values(by='Reciprocal Count',ascending=False)\n",
    "df_Nov_1000=df_Nov.iloc[0:1000]\n",
    "print('MRR for Nov is',df_Nov_1000['Reciprocal'].mean())\n",
    "\n",
    "\n",
    "df_Dec=df_final[df_final['Month']==12]\n",
    "df_Dec=df_Dec.sort_values(by='Reciprocal Count',ascending=False)\n",
    "df_Dec_1000=df_Dec.iloc[0:1000]\n",
    "print('MRR for Dec is',df_Dec_1000['Reciprocal'].mean())\n",
    "\n",
    "df_Jan=df_final[df_final['Month']==1]\n",
    "df_Jan=df_Jan.sort_values(by='Reciprocal Count',ascending=False)\n",
    "df_Jan_1000=df_Jan.iloc[0:1000]\n",
    "print('MRR for Jan is',df_Jan_1000['Reciprocal'].mean())"
   ]
  },
  {
   "cell_type": "code",
   "execution_count": null,
   "id": "4f4fcf4d",
   "metadata": {},
   "outputs": [],
   "source": []
  }
 ],
 "metadata": {
  "kernelspec": {
   "display_name": "Python 3 (ipykernel)",
   "language": "python",
   "name": "python3"
  },
  "language_info": {
   "codemirror_mode": {
    "name": "ipython",
    "version": 3
   },
   "file_extension": ".py",
   "mimetype": "text/x-python",
   "name": "python",
   "nbconvert_exporter": "python",
   "pygments_lexer": "ipython3",
   "version": "3.9.13"
  }
 },
 "nbformat": 4,
 "nbformat_minor": 5
}
